{
 "cells": [
  {
   "cell_type": "code",
   "execution_count": 69,
   "metadata": {},
   "outputs": [],
   "source": [
    "import subprocess\n",
    "import random"
   ]
  },
  {
   "cell_type": "code",
   "execution_count": 70,
   "metadata": {},
   "outputs": [],
   "source": [
    "HARDMAXCAPACITY=2382896"
   ]
  },
  {
   "cell_type": "code",
   "execution_count": 71,
   "metadata": {},
   "outputs": [],
   "source": [
    "diskBlocks={} #disk=[currentWritingBlock,MaxCapacity]\n",
    "CURRENTBLOCK=0\n",
    "MAXCAPACITY=1\n",
    "\n",
    "command=\"\" #Output\n",
    "idToBlockDict={} #id=[disk,block,no of blocks]\n",
    "DISK=0\n",
    "BLOCK=1\n",
    "NOOFBLOCKS=2\n",
    "\n",
    "ID=1\n",
    "TASK=3\n",
    "REQUESTTIME=4\n",
    "DATA=5\n",
    "READ='1'\n",
    "WRITE='0'"
   ]
  },
  {
   "cell_type": "code",
   "execution_count": 72,
   "metadata": {},
   "outputs": [],
   "source": [
    "fOut=open('output.trace','w+')"
   ]
  },
  {
   "cell_type": "code",
   "execution_count": 73,
   "metadata": {},
   "outputs": [],
   "source": [
    "with open('input.txt') as fIn:\n",
    "    firstLine = fIn.readline().split()\n",
    "    for i in range(1,int(firstLine[1])+1):\n",
    "        diskBlocks[str(i)]=[0,int(firstLine[2])]\n",
    "    for line in fIn:\n",
    "        lineList=line.rstrip().split(',')\n",
    "        if lineList[TASK]=='R':\n",
    "            if lineList[ID] in idToBlockDict:\n",
    "                if idToBlockDict[lineList[ID]][DISK]!=lineList[DISK]: #MOVING THE FILE BETWEEN DISKS\n",
    "                    \n",
    "                    diskBlocks[idToBlockDict[lineList[ID]][DISK]][MAXCAPACITY]+=int(idToBlockDict[lineList[ID]][NOOFBLOCKS]) #INCREASE MAX CAPACITY\n",
    "                    if((diskBlocks[lineList[DISK]][CURRENTBLOCK]+int(lineList[NOOFBLOCKS]))<HARDMAXCAPACITY):\n",
    "                        fOut.write(lineList[REQUESTTIME]+' '\n",
    "                                   +lineList[DISK]+' '\n",
    "                                   +str(diskBlocks[lineList[DISK]][CURRENTBLOCK])+' '\n",
    "                                   +lineList[NOOFBLOCKS]+' '\n",
    "                                   +WRITE+'\\n')  #WRITE TO THE DISK\n",
    "                    \n",
    "                        \n",
    "                    idToBlockDict[lineList[ID]]=[lineList[DISK],\n",
    "                                                 diskBlocks[lineList[DISK]][CURRENTBLOCK],\n",
    "                                                 lineList[NOOFBLOCKS]] #UPDATE THE LOCATION OF FILE\n",
    "                    \n",
    "                    diskBlocks[lineList[DISK]][CURRENTBLOCK]+=int(lineList[NOOFBLOCKS]) #INCREMENT WRITING BLOCK\n",
    "\n",
    "                    \n",
    "                    fOut.write(lineList[REQUESTTIME]+' '\n",
    "                               +str(idToBlockDict[lineList[ID]][DISK])+' '\n",
    "                               +str(idToBlockDict[lineList[ID]][BLOCK])+' '\n",
    "                               +str(idToBlockDict[lineList[ID]][NOOFBLOCKS])+' '\n",
    "                               +READ+'\\n')  #READ FROM THE DISK\n",
    "                    \n",
    "                                        \n",
    "                else:     #JUST READ\n",
    "                    fOut.write(lineList[REQUESTTIME]+' '\n",
    "                               +str(idToBlockDict[lineList[ID]][DISK])+' '\n",
    "                               +str(idToBlockDict[lineList[ID]][BLOCK])+' '\n",
    "                               +str(idToBlockDict[lineList[ID]][NOOFBLOCKS])+' '\n",
    "                               +READ+'\\n')  #READ FROM THE DISK\n",
    "                    \n",
    "            else:   #CREATE RANDOM FILE AND READ\n",
    "                \n",
    "                disk=str(random.choice(range(1,len(diskBlocks))))\n",
    "                \n",
    "                idToBlockDict[lineList[ID]]=[disk,\n",
    "                                            diskBlocks[disk][CURRENTBLOCK],\n",
    "                                            lineList[NOOFBLOCKS]] #ADD THE LOCATION OF FILE\n",
    "                \n",
    "                diskBlocks[disk][CURRENTBLOCK]+=int(lineList[NOOFBLOCKS]) #INCREMENT THE DISK BLOCK\n",
    "                \n",
    "                \n",
    "                fOut.write(lineList[REQUESTTIME]+' '\n",
    "                           +str(idToBlockDict[lineList[ID]][DISK])+' '\n",
    "                           +str(idToBlockDict[lineList[ID]][BLOCK])+' '\n",
    "                           +str(idToBlockDict[lineList[ID]][NOOFBLOCKS])+' '\n",
    "                           +READ+'\\n')  #READ FROM THE DISK\n",
    "\n",
    "            \n",
    "        elif lineList[TASK]=='W':\n",
    "            if((diskBlocks[lineList[DISK]][CURRENTBLOCK]+int(lineList[NOOFBLOCKS]))<HARDMAXCAPACITY):           \n",
    "                fOut.write(lineList[REQUESTTIME]+' '\n",
    "                                   +lineList[DISK]+' '\n",
    "                                   +str(diskBlocks[lineList[DISK]][CURRENTBLOCK])+' '\n",
    "                                   +lineList[NOOFBLOCKS]+' '\n",
    "                                   +WRITE+'\\n')  #WRITE TO THE DISK\n",
    "            \n",
    "            if lineList[ID] in idToBlockDict:\n",
    "                diskBlocks[idToBlockDict[lineList[ID]][DISK]][MAXCAPACITY]+=int(lineList[NOOFBLOCKS])  #INCREASE MAX CAPACITY\n",
    "            \n",
    "            idToBlockDict[lineList[ID]]=[lineList[DISK],\n",
    "                                         diskBlocks[lineList[DISK]][CURRENTBLOCK],\n",
    "                                         lineList[NOOFBLOCKS]] #UPDATE THE ID\n",
    "            \n",
    "            diskBlocks[lineList[DISK]][CURRENTBLOCK]+=int(lineList[NOOFBLOCKS]) #UPDATE THE WRITING BLOCK\n",
    "                \n",
    "                \n",
    "            \n",
    "fOut.close()    "
   ]
  },
  {
   "cell_type": "code",
   "execution_count": 74,
   "metadata": {},
   "outputs": [
    {
     "data": {
      "text/plain": [
       "{'1': [0, 10000],\n",
       " '2': [20, 10010],\n",
       " '3': [10, 10000],\n",
       " '4': [0, 10000],\n",
       " '5': [0, 10000],\n",
       " '6': [0, 10000],\n",
       " '7': [0, 10000],\n",
       " '8': [0, 10000],\n",
       " '9': [0, 10000],\n",
       " '10': [0, 10000]}"
      ]
     },
     "execution_count": 74,
     "metadata": {},
     "output_type": "execute_result"
    }
   ],
   "source": [
    "diskBlocks"
   ]
  },
  {
   "cell_type": "code",
   "execution_count": 75,
   "metadata": {},
   "outputs": [],
   "source": [
    "fReturn=open('return.txt','w')\n",
    "fReturn.write('Virtual disk write stats\\n')\n",
    "with open('input.txt') as fIn:\n",
    "    firstLine = fIn.readline().split()\n",
    "    for i in range(1,int(firstLine[1])+1):\n",
    "        if(diskBlocks[str(i)][CURRENTBLOCK]):\n",
    "            percent=(diskBlocks[str(i)][CURRENTBLOCK]/int(firstLine[2]))*100\n",
    "        else:\n",
    "            percent=0\n",
    "        fReturn.write('disk'+','+str(i)+','+str(percent)+'\\n')"
   ]
  },
  {
   "cell_type": "code",
   "execution_count": 76,
   "metadata": {},
   "outputs": [],
   "source": [
    "fReturn.write('Actual disk write stats\\n')\n",
    "for i in diskBlocks:\n",
    "    if(i[CURRENTBLOCK]):\n",
    "        percent=(diskBlocks[str(i)][CURRENTBLOCK]/HARDMAXCAPACITY)*100\n",
    "    else:\n",
    "        percent=0\n",
    "    fReturn.write('disk'+','+str(i)+','+str(percent)+'\\n')\n",
    "fReturn.close()"
   ]
  },
  {
   "cell_type": "markdown",
   "metadata": {},
   "source": [
    "## Check if this is working. I did not check"
   ]
  },
  {
   "cell_type": "code",
   "execution_count": 77,
   "metadata": {},
   "outputs": [
    {
     "ename": "FileNotFoundError",
     "evalue": "[Errno 2] No such file or directory: 'disksim parms.1B stdout output.trace 0 \"disk1 .. disk10\" \"Segment size (inblks)\" 64 \"disk*\" \"Scheduler:Scheduling policy\" 4': 'disksim parms.1B stdout output.trace 0 \"disk1 .. disk10\" \"Segment size (inblks)\" 64 \"disk*\" \"Scheduler:Scheduling policy\" 4'",
     "output_type": "error",
     "traceback": [
      "\u001b[0;31m---------------------------------------------------------------------------\u001b[0m",
      "\u001b[0;31mFileNotFoundError\u001b[0m                         Traceback (most recent call last)",
      "\u001b[0;32m<ipython-input-77-360dfc0165f2>\u001b[0m in \u001b[0;36m<module>\u001b[0;34m()\u001b[0m\n\u001b[1;32m      1\u001b[0m subprocess.run(\"disksim parms.1B stdout output.trace 0 \\\"disk1 .. disk\"+str(len(diskBlocks))\n\u001b[0;32m----> 2\u001b[0;31m                +\"\\\" \"+\"\\\"Segment size (inblks)\\\" 64 \\\"disk*\\\" \\\"Scheduler:Scheduling policy\\\" 4\")\n\u001b[0m",
      "\u001b[0;32m~/anaconda3/lib/python3.6/subprocess.py\u001b[0m in \u001b[0;36mrun\u001b[0;34m(input, timeout, check, *popenargs, **kwargs)\u001b[0m\n\u001b[1;32m    401\u001b[0m         \u001b[0mkwargs\u001b[0m\u001b[0;34m[\u001b[0m\u001b[0;34m'stdin'\u001b[0m\u001b[0;34m]\u001b[0m \u001b[0;34m=\u001b[0m \u001b[0mPIPE\u001b[0m\u001b[0;34m\u001b[0m\u001b[0m\n\u001b[1;32m    402\u001b[0m \u001b[0;34m\u001b[0m\u001b[0m\n\u001b[0;32m--> 403\u001b[0;31m     \u001b[0;32mwith\u001b[0m \u001b[0mPopen\u001b[0m\u001b[0;34m(\u001b[0m\u001b[0;34m*\u001b[0m\u001b[0mpopenargs\u001b[0m\u001b[0;34m,\u001b[0m \u001b[0;34m**\u001b[0m\u001b[0mkwargs\u001b[0m\u001b[0;34m)\u001b[0m \u001b[0;32mas\u001b[0m \u001b[0mprocess\u001b[0m\u001b[0;34m:\u001b[0m\u001b[0;34m\u001b[0m\u001b[0m\n\u001b[0m\u001b[1;32m    404\u001b[0m         \u001b[0;32mtry\u001b[0m\u001b[0;34m:\u001b[0m\u001b[0;34m\u001b[0m\u001b[0m\n\u001b[1;32m    405\u001b[0m             \u001b[0mstdout\u001b[0m\u001b[0;34m,\u001b[0m \u001b[0mstderr\u001b[0m \u001b[0;34m=\u001b[0m \u001b[0mprocess\u001b[0m\u001b[0;34m.\u001b[0m\u001b[0mcommunicate\u001b[0m\u001b[0;34m(\u001b[0m\u001b[0minput\u001b[0m\u001b[0;34m,\u001b[0m \u001b[0mtimeout\u001b[0m\u001b[0;34m=\u001b[0m\u001b[0mtimeout\u001b[0m\u001b[0;34m)\u001b[0m\u001b[0;34m\u001b[0m\u001b[0m\n",
      "\u001b[0;32m~/anaconda3/lib/python3.6/subprocess.py\u001b[0m in \u001b[0;36m__init__\u001b[0;34m(self, args, bufsize, executable, stdin, stdout, stderr, preexec_fn, close_fds, shell, cwd, env, universal_newlines, startupinfo, creationflags, restore_signals, start_new_session, pass_fds, encoding, errors)\u001b[0m\n\u001b[1;32m    707\u001b[0m                                 \u001b[0mc2pread\u001b[0m\u001b[0;34m,\u001b[0m \u001b[0mc2pwrite\u001b[0m\u001b[0;34m,\u001b[0m\u001b[0;34m\u001b[0m\u001b[0m\n\u001b[1;32m    708\u001b[0m                                 \u001b[0merrread\u001b[0m\u001b[0;34m,\u001b[0m \u001b[0merrwrite\u001b[0m\u001b[0;34m,\u001b[0m\u001b[0;34m\u001b[0m\u001b[0m\n\u001b[0;32m--> 709\u001b[0;31m                                 restore_signals, start_new_session)\n\u001b[0m\u001b[1;32m    710\u001b[0m         \u001b[0;32mexcept\u001b[0m\u001b[0;34m:\u001b[0m\u001b[0;34m\u001b[0m\u001b[0m\n\u001b[1;32m    711\u001b[0m             \u001b[0;31m# Cleanup if the child failed starting.\u001b[0m\u001b[0;34m\u001b[0m\u001b[0;34m\u001b[0m\u001b[0m\n",
      "\u001b[0;32m~/anaconda3/lib/python3.6/subprocess.py\u001b[0m in \u001b[0;36m_execute_child\u001b[0;34m(self, args, executable, preexec_fn, close_fds, pass_fds, cwd, env, startupinfo, creationflags, shell, p2cread, p2cwrite, c2pread, c2pwrite, errread, errwrite, restore_signals, start_new_session)\u001b[0m\n\u001b[1;32m   1342\u001b[0m                         \u001b[0;32mif\u001b[0m \u001b[0merrno_num\u001b[0m \u001b[0;34m==\u001b[0m \u001b[0merrno\u001b[0m\u001b[0;34m.\u001b[0m\u001b[0mENOENT\u001b[0m\u001b[0;34m:\u001b[0m\u001b[0;34m\u001b[0m\u001b[0m\n\u001b[1;32m   1343\u001b[0m                             \u001b[0merr_msg\u001b[0m \u001b[0;34m+=\u001b[0m \u001b[0;34m': '\u001b[0m \u001b[0;34m+\u001b[0m \u001b[0mrepr\u001b[0m\u001b[0;34m(\u001b[0m\u001b[0merr_filename\u001b[0m\u001b[0;34m)\u001b[0m\u001b[0;34m\u001b[0m\u001b[0m\n\u001b[0;32m-> 1344\u001b[0;31m                     \u001b[0;32mraise\u001b[0m \u001b[0mchild_exception_type\u001b[0m\u001b[0;34m(\u001b[0m\u001b[0merrno_num\u001b[0m\u001b[0;34m,\u001b[0m \u001b[0merr_msg\u001b[0m\u001b[0;34m,\u001b[0m \u001b[0merr_filename\u001b[0m\u001b[0;34m)\u001b[0m\u001b[0;34m\u001b[0m\u001b[0m\n\u001b[0m\u001b[1;32m   1345\u001b[0m                 \u001b[0;32mraise\u001b[0m \u001b[0mchild_exception_type\u001b[0m\u001b[0;34m(\u001b[0m\u001b[0merr_msg\u001b[0m\u001b[0;34m)\u001b[0m\u001b[0;34m\u001b[0m\u001b[0m\n\u001b[1;32m   1346\u001b[0m \u001b[0;34m\u001b[0m\u001b[0m\n",
      "\u001b[0;31mFileNotFoundError\u001b[0m: [Errno 2] No such file or directory: 'disksim parms.1B stdout output.trace 0 \"disk1 .. disk10\" \"Segment size (inblks)\" 64 \"disk*\" \"Scheduler:Scheduling policy\" 4': 'disksim parms.1B stdout output.trace 0 \"disk1 .. disk10\" \"Segment size (inblks)\" 64 \"disk*\" \"Scheduler:Scheduling policy\" 4'"
     ]
    }
   ],
   "source": [
    "subprocess.run(\"disksim parms.1B stdout output.trace 0 \\\"disk1 .. disk\"+str(len(diskBlocks))\n",
    "               +\"\\\" \"+\"\\\"Segment size (inblks)\\\" 64 \\\"disk*\\\" \\\"Scheduler:Scheduling policy\\\" 4\")"
   ]
  },
  {
   "cell_type": "code",
   "execution_count": null,
   "metadata": {},
   "outputs": [],
   "source": []
  }
 ],
 "metadata": {
  "kernelspec": {
   "display_name": "Python 3",
   "language": "python",
   "name": "python3"
  },
  "language_info": {
   "codemirror_mode": {
    "name": "ipython",
    "version": 3
   },
   "file_extension": ".py",
   "mimetype": "text/x-python",
   "name": "python",
   "nbconvert_exporter": "python",
   "pygments_lexer": "ipython3",
   "version": "3.6.4"
  }
 },
 "nbformat": 4,
 "nbformat_minor": 2
}
